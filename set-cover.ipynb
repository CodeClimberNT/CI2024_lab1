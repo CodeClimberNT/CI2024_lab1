{
 "cells": [
  {
   "cell_type": "markdown",
   "metadata": {},
   "source": [
    "Copyright **`(c)`** 2024 Giovanni Squillero `<giovanni.squillero@polito.it>`  \n",
    "[`https://github.com/squillero/computational-intelligence`](https://github.com/squillero/computational-intelligence)  \n",
    "Free for personal or classroom use; see [`LICENSE.md`](https://github.com/squillero/computational-intelligence/blob/master/LICENSE.md) for details.  "
   ]
  },
  {
   "cell_type": "markdown",
   "metadata": {},
   "source": [
    "# Set Cover problem\n",
    "\n",
    "See: https://en.wikipedia.org/wiki/Set_cover_problem"
   ]
  },
  {
   "cell_type": "code",
   "execution_count": 211,
   "metadata": {},
   "outputs": [],
   "source": [
    "import numpy as np\n",
    "from numpy.typing import NDArray\n",
    "from icecream import ic\n",
    "\n",
    "from tqdm.auto import tqdm\n",
    "from itertools import accumulate\n",
    "from matplotlib import pyplot as plt"
   ]
  },
  {
   "cell_type": "markdown",
   "metadata": {},
   "source": [
    "## Reproducible Initialization\n",
    "\n",
    "If you want to get reproducible results, use `rng` (and restart the kernel); for non-reproducible ones, use `np.random`."
   ]
  },
  {
   "cell_type": "code",
   "execution_count": 212,
   "metadata": {},
   "outputs": [],
   "source": [
    "UNIVERSE_SIZE = 1_000\n",
    "NUM_SETS = 200\n",
    "\n",
    "DENSITY = 0.3\n",
    "\n",
    "rng = np.random.Generator(np.random.PCG64([UNIVERSE_SIZE, NUM_SETS, int(NUM_SETS * DENSITY)]))"
   ]
  },
  {
   "cell_type": "code",
   "execution_count": 213,
   "metadata": {},
   "outputs": [],
   "source": [
    "# DON'T EDIT THESE LINES!\n",
    "\n",
    "SETS = np.random.random((NUM_SETS, UNIVERSE_SIZE)) < DENSITY\n",
    "for s in range(UNIVERSE_SIZE):\n",
    "    if not np.any(SETS[:, s]):\n",
    "        SETS[np.random.randint(NUM_SETS), s] = True\n",
    "COSTS = np.pow(SETS.sum(axis=1), 1.1)"
   ]
  },
  {
   "cell_type": "markdown",
   "metadata": {},
   "source": [
    "## Helper Functions"
   ]
  },
  {
   "cell_type": "code",
   "execution_count": 214,
   "metadata": {},
   "outputs": [],
   "source": [
    "def valid(solution) -> np.bool:\n",
    "    \"\"\"Checks wether solution is valid (ie. covers all universe)\"\"\"\n",
    "    return np.all(np.logical_or.reduce(SETS[solution]))\n",
    "\n",
    "\n",
    "def cost(solution)-> np.float64:\n",
    "    \"\"\"Returns the cost of a solution (to be minimized)\"\"\"\n",
    "    return COSTS[solution].sum()"
   ]
  },
  {
   "cell_type": "markdown",
   "metadata": {},
   "source": [
    "## Have Fun!"
   ]
  },
  {
   "cell_type": "code",
   "execution_count": 215,
   "metadata": {},
   "outputs": [],
   "source": [
    "def fitness(\n",
    "    solution: NDArray[np.bool],\n",
    "    penalty: dict[str, float] = {\n",
    "        \"redundancy\": 1.5,\n",
    "        \"set_count\": 10.0,\n",
    "    },\n",
    ") -> np.float64:\n",
    "    # Calculate how often each element in the universe is covered\n",
    "    element_coverage: NDArray[np.int16] = SETS[solution].sum(axis=0)\n",
    "\n",
    "    # Penalize for redundant coverage: penalize elements covered more than once\n",
    "    redundancy_penalty = np.sum((element_coverage[element_coverage > 1]) ** penalty[\"redundancy\"])\n",
    "\n",
    "    # Calculate the penalty based on the number of sets used\n",
    "    num_sets_used = solution.sum()  # Count the number of sets included in the solution\n",
    "    set_count_penalty = num_sets_used * penalty[\"set_count\"]  # Apply penalty based on the count of sets\n",
    "\n",
    "    # Calculate the fitness value\n",
    "    if valid(solution):\n",
    "        return -cost(solution) - redundancy_penalty - set_count_penalty\n",
    "    else:\n",
    "        return np.float64(-np.inf)\n",
    "\n",
    "\n",
    "def mutate(\n",
    "    solution: NDArray[np.bool],\n",
    "    penalty: dict[str, float] = {\n",
    "        \"redundancy\": 1.5,\n",
    "        \"set_count\": 10.0,\n",
    "    },\n",
    ") -> NDArray[np.bool]:\n",
    "    # Create a matrix where each row is the solution with one set flipped\n",
    "    flip_matrix = np.tile(solution, (NUM_SETS, 1))  # Duplicate the solution NUM_SETS times\n",
    "    flip_matrix[np.arange(NUM_SETS), np.arange(NUM_SETS)] ^= True  # Flip each set once\n",
    "\n",
    "    # Compute fitness for all flipped solutions in a vectorized manner\n",
    "    fitness_values = np.apply_along_axis(lambda sol: fitness(sol, penalty), 1, flip_matrix)\n",
    "\n",
    "    # Find the flip that gives the maximum fitness value (reduction)\n",
    "    best_flip_index = np.argmax(fitness_values)\n",
    "\n",
    "    # Apply the best flip to the solution\n",
    "    best_solution = flip_matrix[best_flip_index]\n",
    "\n",
    "    return best_solution"
   ]
  },
  {
   "cell_type": "code",
   "execution_count": 216,
   "metadata": {},
   "outputs": [],
   "source": [
    "def fit(\n",
    "    solution: NDArray[np.bool],\n",
    "    steps: int = 200,\n",
    "    penalty: dict[str, float] = {\n",
    "        \"redundancy\": 1.5,\n",
    "        \"set_count\": 10.0,\n",
    "    },\n",
    "    plot: bool = False,\n",
    ") -> NDArray[np.bool]:\n",
    "    history: list[np.float64] = [fitness(solution)]\n",
    "    new_solution: NDArray[np.bool] = mutate(solution, penalty)\n",
    "    history.append(fitness(new_solution))\n",
    "    # Copied from here\n",
    "    # https://github.com/squillero/computational-intelligence/blob/master/2024-25/multiple-knapsack.ipynb\n",
    "    for _ in tqdm(range(steps)):\n",
    "        new_solution = mutate(new_solution, penalty)\n",
    "        history.append(fitness(new_solution))\n",
    "\n",
    "    if plot:\n",
    "        plt.figure(figsize=(14, 8))\n",
    "        plt.plot(\n",
    "            range(len(history)),\n",
    "            list(accumulate(history, max)),  # type: ignore\n",
    "            color=\"red\",\n",
    "        )\n",
    "        plt.scatter(range(len(history)), history, marker=\".\")\n",
    "    return new_solution"
   ]
  },
  {
   "cell_type": "code",
   "execution_count": 226,
   "metadata": {},
   "outputs": [
    {
     "name": "stderr",
     "output_type": "stream",
     "text": [
      "ic| fitness(random_solution): np.float64(-197187.77124873165)\n",
      "    cost(random_solution): np.float64(49031.95744184537)\n",
      "    valid(random_solution): np.True_\n"
     ]
    },
    {
     "data": {
      "application/vnd.jupyter.widget-view+json": {
       "model_id": "ec0eb003c9e2414181d9847c333f699e",
       "version_major": 2,
       "version_minor": 0
      },
      "text/plain": [
       "  0%|          | 0/100 [00:00<?, ?it/s]"
      ]
     },
     "metadata": {},
     "output_type": "display_data"
    },
    {
     "name": "stderr",
     "output_type": "stream",
     "text": [
      "ic| fitness(solution): np.float64(-14003.70120891753)\n",
      "    cost(solution): np.float64(6463.0598252206155)\n",
      "    valid(solution): np.True_\n"
     ]
    },
    {
     "data": {
      "text/plain": [
       "(np.float64(-14003.70120891753), np.float64(6463.0598252206155), np.True_)"
      ]
     },
     "execution_count": 226,
     "metadata": {},
     "output_type": "execute_result"
    },
    {
     "data": {
      "image/png": "[encoded data removed]",
      "text/plain": [
       "<Figure size 1400x800 with 1 Axes>"
      ]
     },
     "metadata": {},
     "output_type": "display_data"
    }
   ],
   "source": [
    "# Starting with a random solution with random 50% of the sets\n",
    "random_solution: NDArray[np.bool] = rng.random(NUM_SETS) < 0.5\n",
    "ic(fitness(random_solution), cost(random_solution), valid(random_solution))\n",
    "\n",
    "penalty: dict[str, float] = {\n",
    "    \"redundancy\": 5.26,\n",
    "    \"set_count\": 0.0,\n",
    "}\n",
    "\n",
    "solution: NDArray[np.bool] = fit(random_solution, steps=100, penalty=penalty, plot=True)\n",
    "ic(fitness(solution), cost(solution), valid(solution))"
   ]
  },
  {
   "cell_type": "markdown",
   "metadata": {},
   "source": [
    "## Hyperspace tuning\n",
    "**Attention**:\n",
    "\n",
    "The following code require a lot of time to complete, it iterates for different value of redundancy and number of sets used penalties to find the best combination to use.\n",
    "\n",
    "Below I put the output for the top 5 results so that there is no need to run it again, but keep in mind that the following combination is the (maybe) best for this setup of the problem:\n",
    "```python\n",
    "UNIVERSE_SIZE = 1_000\n",
    "NUM_SETS = 200\n",
    "DENSITY = 0.3\n",
    "```\n",
    "> e.g. changing the density may require a redundancy penalty overhaul\n",
    "\n",
    "Other configuration of the problem may require other kind of parameters\n",
    "\n",
    "### ⚠️Run at your own risk⚠️\n",
    "#### Time to process 20m 34s for my 5 years old laptop\n",
    "```python\n",
    "Rank 1: Fitness = -7868.5356, Cost = 6863.8514, Redundancy Weight = 0.00, Set Count Weight = 5.26\n",
    "Rank 2: Fitness = -8486.5815, Cost = 7297.7394, Redundancy Weight = 0.00, Set Count Weight = 15.79\n",
    "Rank 3: Fitness = -8528.7557, Cost = 6925.5978, Redundancy Weight = 0.00, Set Count Weight = 47.37\n",
    "Rank 4: Fitness = -8640.6400, Cost = 7376.8505, Redundancy Weight = 0.00, Set Count Weight = 21.05\n",
    "Rank 5: Fitness = -8700.6207, Cost = 6449.2229, Redundancy Weight = 0.67, Set Count Weight = 0.00\n",
    "```"
   ]
  },
  {
   "cell_type": "code",
   "execution_count": null,
   "metadata": {},
   "outputs": [],
   "source": [
    "# Define weights to test for redundancy and set count\n",
    "redundancy_weights = np.linspace(0, 3, 10)  # Adjust as needed\n",
    "set_count_weights = np.linspace(0, 100, 20)  # Adjust as needed\n",
    "\n",
    "top_solutions = []\n",
    "\n",
    "# Nested loops to test each combination of redundancy and set count weights\n",
    "for redundancy_weight in tqdm(redundancy_weights, desc=\"Testing Redundancy Weights\"):\n",
    "    for set_count_weight in tqdm(set_count_weights, desc=\"Testing Set Count Weights\", leave=False):\n",
    "        # Initialize a random solution\n",
    "        solution = np.random.random(NUM_SETS) < 0.5  \n",
    "        \n",
    "        # Create a penalty dictionary for the current weights\n",
    "        penalty = {\n",
    "            \"redundancy\": redundancy_weight,\n",
    "            \"set_count\": set_count_weight\n",
    "        }\n",
    "        \n",
    "        # Run the fit function with the current weights\n",
    "        final_solution = fit(solution, steps=200, penalty=penalty)\n",
    "        \n",
    "        # Calculate fitness and cost\n",
    "        solution_fitness = fitness(final_solution, penalty)\n",
    "        solution_cost = cost(final_solution)\n",
    "        \n",
    "        # Store the fitness and cost metrics\n",
    "        top_solutions.append((solution_fitness, solution_cost, redundancy_weight, set_count_weight))\n",
    "\n",
    "\n",
    "# Sort solutions by fitness (descending order)\n",
    "top_solutions = sorted(top_solutions, key=lambda x: x[0], reverse=True)\n",
    "\n",
    "# Retrieve the top 5 solutions\n",
    "top_5_solutions = top_solutions[:5]\n",
    "\n",
    "# Display top 5 weights and their corresponding fitness\n",
    "for i, (fitness_val, cost_val, redundancy_weight, set_count_weight) in enumerate(top_5_solutions, start=1):\n",
    "    print(f\"Rank {i}: Fitness = {fitness_val:.4f}, Cost = {cost_val:.4f}, Redundancy Weight = {redundancy_weight:.2f}, Set Count Weight = {set_count_weight:.2f}\")"
   ]
  }
 ],
 "metadata": {
  "kernelspec": {
   "display_name": "ci-bUAn5Itr-py3.12",
   "language": "python",
   "name": "python3"
  },
  "language_info": {
   "codemirror_mode": {
    "name": "ipython",
    "version": 3
   },
   "file_extension": ".py",
   "mimetype": "text/x-python",
   "name": "python",
   "nbconvert_exporter": "python",
   "pygments_lexer": "ipython3",
   "version": "3.12.6"
  }
 },
 "nbformat": 4,
 "nbformat_minor": 4
}
