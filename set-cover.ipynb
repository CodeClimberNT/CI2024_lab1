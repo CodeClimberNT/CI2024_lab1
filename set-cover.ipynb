{
 "cells": [
  {
   "cell_type": "markdown",
   "metadata": {},
   "source": [
    "Copyright **`(c)`** 2024 Giovanni Squillero `<giovanni.squillero@polito.it>`  \n",
    "[`https://github.com/squillero/computational-intelligence`](https://github.com/squillero/computational-intelligence)  \n",
    "Free for personal or classroom use; see [`LICENSE.md`](https://github.com/squillero/computational-intelligence/blob/master/LICENSE.md) for details.  "
   ]
  },
  {
   "cell_type": "markdown",
   "metadata": {},
   "source": [
    "# Set Cover problem\n",
    "\n",
    "See: https://en.wikipedia.org/wiki/Set_cover_problem"
   ]
  },
  {
   "cell_type": "code",
   "execution_count": 519,
   "metadata": {},
   "outputs": [],
   "source": [
    "import numpy as np\n",
    "from numpy.typing import NDArray\n",
    "from icecream import ic\n"
   ]
  },
  {
   "cell_type": "markdown",
   "metadata": {},
   "source": [
    "## Reproducible Initialization\n",
    "\n",
    "If you want to get reproducible results, use `rng` (and restart the kernel); for non-reproducible ones, use `np.random`."
   ]
  },
  {
   "cell_type": "code",
   "execution_count": 520,
   "metadata": {},
   "outputs": [],
   "source": [
    "UNIVERSE_SIZE = 10_000\n",
    "NUM_SETS = 1_000\n",
    "\n",
    "DENSITY = 0.3\n",
    "\n",
    "rng = np.random.Generator(np.random.PCG64([UNIVERSE_SIZE, NUM_SETS, int(NUM_SETS * DENSITY)]))"
   ]
  },
  {
   "cell_type": "code",
   "execution_count": 521,
   "metadata": {},
   "outputs": [],
   "source": [
    "# DON'T EDIT THESE LINES!\n",
    "\n",
    "SETS = np.random.random((NUM_SETS, UNIVERSE_SIZE)) < DENSITY\n",
    "for s in range(UNIVERSE_SIZE):\n",
    "    if not np.any(SETS[:, s]):\n",
    "        SETS[np.random.randint(NUM_SETS), s] = True\n",
    "COSTS = np.pow(SETS.sum(axis=1), 1.1)"
   ]
  },
  {
   "cell_type": "markdown",
   "metadata": {},
   "source": [
    "## Helper Functions"
   ]
  },
  {
   "cell_type": "code",
   "execution_count": 522,
   "metadata": {},
   "outputs": [],
   "source": [
    "def valid(solution) -> np.bool:\n",
    "    \"\"\"Checks wether solution is valid (ie. covers all universe)\"\"\"\n",
    "    return np.all(np.logical_or.reduce(SETS[solution]))\n",
    "\n",
    "\n",
    "def cost(solution)-> np.float64:\n",
    "    \"\"\"Returns the cost of a solution (to be minimized)\"\"\"\n",
    "    return COSTS[solution].sum()"
   ]
  },
  {
   "cell_type": "markdown",
   "metadata": {},
   "source": [
    "## Have Fun!"
   ]
  },
  {
   "cell_type": "code",
   "execution_count": null,
   "metadata": {},
   "outputs": [],
   "source": [
    "def find_median_index(bool_array):\n",
    "    # Find the indexes where the array is True\n",
    "    true_indexes = np.where(bool_array)[0]\n",
    "    \n",
    "    # Find the median of the true indexes\n",
    "    median_index = int(np.median(true_indexes))\n",
    "    \n",
    "    return median_index"
   ]
  },
  {
   "cell_type": "code",
   "execution_count": 524,
   "metadata": {},
   "outputs": [],
   "source": [
    "def fitness(solution: NDArray[np.bool]) -> np.float64:\n",
    "    return -cost(solution) if valid(solution) else np.float64(-1e12)\n",
    "\n",
    "def mutate(solution: NDArray[np.bool], bound_den: int) -> NDArray[np.bool]:\n",
    "    new_sol: NDArray[np.bool] = solution.copy()\n",
    "    while not valid(new_sol) or np.array_equal(new_sol, solution):\n",
    "        m_index = find_median_index(new_sol)\n",
    "        bound_range = NUM_SETS//bound_den\n",
    "        low_bound = max(0, m_index - bound_range)\n",
    "        high_bound = min(NUM_SETS, m_index + bound_range)\n",
    "        i: int = rng.integers(low_bound, high_bound)\n",
    "        i: int = rng.integers(0, NUM_SETS)\n",
    "        new_sol[i] = not new_sol[i]\n",
    "    return new_sol"
   ]
  },
  {
   "cell_type": "code",
   "execution_count": 525,
   "metadata": {},
   "outputs": [],
   "source": [
    "def solve(solution: NDArray[np.bool], num_steps: int = 50_000, bound_range_den: int = 5) -> NDArray[np.bool]:\n",
    "    new_solution: NDArray[np.bool] = solution.copy()\n",
    "    for _ in range(num_steps):\n",
    "        new_solution = mutate(new_solution, bound_range_den)\n",
    "        if fitness(new_solution) > fitness(solution):\n",
    "            solution = new_solution\n",
    "\n",
    "    return solution"
   ]
  },
  {
   "cell_type": "code",
   "execution_count": 526,
   "metadata": {},
   "outputs": [
    {
     "name": "stderr",
     "output_type": "stream",
     "text": [
      "ic| fitness(random_solution): np.float64(-3401340.9106805306)\n",
      "    cost(random_solution): np.float64(3401340.9106805306)\n",
      "    valid(random_solution): np.True_\n",
      "ic| fitness(solution): np.float64(-3119557.268680146)\n",
      "    cost(solution): np.float64(3119557.268680146)\n",
      "    valid(solution): np.True_\n",
      "    bound_range_den: 1\n",
      "ic| fitness(solution): np.float64(-3256367.067815709)\n",
      "    cost(solution): np.float64(3256367.067815709)\n",
      "    valid(solution): np.True_\n",
      "    bound_range_den: 2\n",
      "ic| fitness(solution): np.float64(-3130086.799782158)\n",
      "    cost(solution): np.float64(3130086.799782158)\n",
      "    valid(solution): np.True_\n",
      "    bound_range_den: 3\n",
      "ic| fitness(solution): np.float64(-3236004.4533163733)\n",
      "    cost(solution): np.float64(3236004.4533163733)\n",
      "    valid(solution): np.True_\n",
      "    bound_range_den: 4\n",
      "ic| fitness(solution): np.float64(-3248420.1454414725)\n",
      "    cost(solution): np.float64(3248420.1454414725)\n",
      "    valid(solution): np.True_\n",
      "    bound_range_den: 5\n",
      "ic| fitness(solution): np.float64(-3242363.229341618)\n",
      "    cost(solution): np.float64(3242363.229341618)\n",
      "    valid(solution): np.True_\n",
      "    bound_range_den: 6\n",
      "ic| fitness(solution): np.float64(-3187933.834220215)\n",
      "    cost(solution): np.float64(3187933.834220215)\n",
      "    valid(solution): np.True_\n",
      "    bound_range_den: 7\n",
      "ic| fitness(solution): np.float64(-3279612.999792894)\n",
      "    cost(solution): np.float64(3279612.999792894)\n",
      "    valid(solution): np.True_\n",
      "    bound_range_den: 8\n",
      "ic| fitness(solution): np.float64(-3301443.935719664)\n",
      "    cost(solution): np.float64(3301443.935719664)\n",
      "    valid(solution): np.True_\n",
      "    bound_range_den: 9\n"
     ]
    }
   ],
   "source": [
    "# Starting with a random solution with random 50% of the sets\n",
    "random_solution: NDArray[np.bool] = rng.random(NUM_SETS) < .5\n",
    "ic(fitness(random_solution), cost(random_solution), valid(random_solution))\n",
    "\n",
    "for bound_range_den in range(1, 10):\n",
    "    solution: NDArray[np.bool] = solve(random_solution, 500, bound_range_den)\n",
    "    ic(fitness(solution), cost(solution), valid(solution), bound_range_den)\n",
    "\n",
    "\n"
   ]
  },
  {
   "cell_type": "markdown",
   "metadata": {},
   "source": [
    "\n",
    "ic| fitness(random_solution): np.float64(-3401340.9106805306)\n",
    "    cost(random_solution): np.float64(3401340.9106805306)\n",
    "    valid(random_solution): np.True_\n",
    "    \n",
    "ic| fitness(solution): np.float64(-3119557.268680146)\n",
    "    cost(solution): np.float64(3119557.268680146)\n",
    "    valid(solution): np.True_\n",
    "    bound_range_den: 1\n",
    "\n",
    "\n",
    "ic| fitness(solution): np.float64(-3256367.067815709)\n",
    "    cost(solution): np.float64(3256367.067815709)\n",
    "    valid(solution): np.True_\n",
    "    bound_range_den: 2\n",
    "\n",
    "\n",
    "ic| fitness(solution): np.float64(-3130086.799782158)\n",
    "    cost(solution): np.float64(3130086.799782158)\n",
    "    valid(solution): np.True_\n",
    "    bound_range_den: 3\n",
    "\n",
    "\n",
    "ic| fitness(solution): np.float64(-3236004.4533163733)\n",
    "    cost(solution): np.float64(3236004.4533163733)\n",
    "    valid(solution): np.True_\n",
    "    bound_range_den: 4\n",
    "\n",
    "\n",
    "ic| fitness(solution): np.float64(-3248420.1454414725)\n",
    "    cost(solution): np.float64(3248420.1454414725)\n",
    "    valid(solution): np.True_\n",
    "    bound_range_den: 5\n",
    "\n",
    "    \n",
    "ic| fitness(solution): np.float64(-3242363.229341618)\n",
    "    cost(solution): np.float64(3242363.229341618)\n",
    "    valid(solution): np.True_\n",
    "    bound_range_den: 6\n",
    "\n",
    "\n",
    "ic| fitness(solution): np.float64(-3187933.834220215)\n",
    "    cost(solution): np.float64(3187933.834220215)\n",
    "    valid(solution): np.True_\n",
    "    bound_range_den: 7\n",
    "\n",
    "\n",
    "ic| fitness(solution): np.float64(-3279612.999792894)\n",
    "    cost(solution): np.float64(3279612.999792894)\n",
    "    valid(solution): np.True_\n",
    "    bound_range_den: 8\n",
    "    \n",
    "    \n",
    "ic| fitness(solution): np.float64(-3301443.935719664)\n",
    "    cost(solution): np.float64(3301443.935719664)\n",
    "    valid(solution): np.True_\n",
    "    bound_range_den: 9\n"
   ]
  }
 ],
 "metadata": {
  "kernelspec": {
   "display_name": "Python 3 (ipykernel)",
   "language": "python",
   "name": "python3"
  },
  "language_info": {
   "codemirror_mode": {
    "name": "ipython",
    "version": 3
   },
   "file_extension": ".py",
   "mimetype": "text/x-python",
   "name": "python",
   "nbconvert_exporter": "python",
   "pygments_lexer": "ipython3",
   "version": "3.12.6"
  }
 },
 "nbformat": 4,
 "nbformat_minor": 4
}
