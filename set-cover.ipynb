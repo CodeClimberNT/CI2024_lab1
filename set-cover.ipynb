{
 "cells": [
  {
   "cell_type": "markdown",
   "metadata": {},
   "source": [
    "Copyright **`(c)`** 2024 Giovanni Squillero `<giovanni.squillero@polito.it>`  \n",
    "[`https://github.com/squillero/computational-intelligence`](https://github.com/squillero/computational-intelligence)  \n",
    "Free for personal or classroom use; see [`LICENSE.md`](https://github.com/squillero/computational-intelligence/blob/master/LICENSE.md) for details.  "
   ]
  },
  {
   "cell_type": "markdown",
   "metadata": {},
   "source": [
    "# Set Cover problem\n",
    "\n",
    "See: https://en.wikipedia.org/wiki/Set_cover_problem"
   ]
  },
  {
   "cell_type": "code",
   "execution_count": 88,
   "metadata": {},
   "outputs": [],
   "source": [
    "# from random import random, seed\n",
    "# from itertools import product\n",
    "import numpy as np\n",
    "from numpy.typing import NDArray\n",
    "from icecream import ic\n",
    "from functools import cache\n"
   ]
  },
  {
   "cell_type": "markdown",
   "metadata": {},
   "source": [
    "## Reproducible Initialization\n",
    "\n",
    "If you want to get reproducible results, use `rng` (and restart the kernel); for non-reproducible ones, use `np.random`."
   ]
  },
  {
   "cell_type": "code",
   "execution_count": 89,
   "metadata": {},
   "outputs": [],
   "source": [
    "# The original value were too high for my computer to handle\n",
    "# UNIVERSE_SIZE = 100_000\n",
    "# NUM_SETS = 10_000\n",
    "UNIVERSE_SIZE = 10_000\n",
    "NUM_SETS = 1_000\n",
    "DENSITY = 0.3\n",
    "\n",
    "rng = np.random.Generator(np.random.PCG64([UNIVERSE_SIZE, NUM_SETS, int(NUM_SETS * DENSITY)]))"
   ]
  },
  {
   "cell_type": "code",
   "execution_count": 90,
   "metadata": {},
   "outputs": [],
   "source": [
    "# DON'T EDIT THESE LINES!\n",
    "\n",
    "SETS = np.random.random((NUM_SETS, UNIVERSE_SIZE)) < DENSITY\n",
    "for s in range(UNIVERSE_SIZE):\n",
    "    if not np.any(SETS[:, s]):\n",
    "        SETS[np.random.randint(NUM_SETS), s] = True\n",
    "COSTS = np.pow(SETS.sum(axis=1), 1.1)"
   ]
  },
  {
   "cell_type": "markdown",
   "metadata": {},
   "source": [
    "## Helper Functions"
   ]
  },
  {
   "cell_type": "code",
   "execution_count": 91,
   "metadata": {},
   "outputs": [],
   "source": [
    "def valid(solution):\n",
    "    \"\"\"Checks wether solution is valid (ie. covers all universe)\"\"\"\n",
    "    return np.all(np.logical_or.reduce(SETS[solution]))\n",
    "\n",
    "\n",
    "def cost(solution):\n",
    "    \"\"\"Returns the cost of a solution (to be minimized)\"\"\"\n",
    "    return COSTS[solution].sum()"
   ]
  },
  {
   "cell_type": "markdown",
   "metadata": {},
   "source": [
    "## Have Fun!"
   ]
  },
  {
   "cell_type": "code",
   "execution_count": 92,
   "metadata": {},
   "outputs": [
    {
     "data": {
      "text/plain": [
       "(np.True_, np.float64(6675263.903467085))"
      ]
     },
     "execution_count": 92,
     "metadata": {},
     "output_type": "execute_result"
    }
   ],
   "source": [
    "# A dumb solution of \"all\" sets\n",
    "solution = np.full(NUM_SETS, True)\n",
    "valid(solution), cost(solution)"
   ]
  },
  {
   "cell_type": "code",
   "execution_count": 93,
   "metadata": {},
   "outputs": [
    {
     "data": {
      "text/plain": [
       "(np.True_, np.float64(3397163.3113611042))"
      ]
     },
     "execution_count": 93,
     "metadata": {},
     "output_type": "execute_result"
    }
   ],
   "source": [
    "# A random solution with random 50% of the sets\n",
    "solution: NDArray[np.bool] = rng.random(NUM_SETS) < .5\n",
    "valid(solution), cost(solution)"
   ]
  },
  {
   "cell_type": "markdown",
   "metadata": {},
   "source": [
    "### Note\n",
    "There is some repetition for both solution but in this case I preferred to abstract the two method as they were completely independent, \n",
    "mainly for readability.\n",
    "\n",
    "Also the results are cached as the `NUM_SETS` and `UNIVERSE_SIZE` are global variable that does not change"
   ]
  },
  {
   "cell_type": "code",
   "execution_count": 94,
   "metadata": {},
   "outputs": [],
   "source": [
    "@cache\n",
    "def greedy_set_cover() -> NDArray[np.bool]:\n",
    "    \"\"\" Solves the set cover problem using a greedy algorithm \n",
    "    that selects the set that maximize the number of uncovered elements.\n",
    "    \n",
    "    Note: This is a naive solution that does not consider the added cost of each set.\n",
    "    \n",
    "    Returns:\n",
    "        NDArray[np.bool]: Solution to the set cover problem\n",
    "    \"\"\"\n",
    "    covered: set = set()\n",
    "\n",
    "    # NUM_SETS.size bool array, initialized with False\n",
    "    solution: NDArray[np.bool] = np.zeros(NUM_SETS, dtype=np.bool)\n",
    "\n",
    "    # Create a copy of SETS to avoid modifying the original\n",
    "    sets_copy: NDArray[np.bool] = SETS.copy()\n",
    "\n",
    "    while len(covered) < UNIVERSE_SIZE:\n",
    "        # Select the set that covers the most uncovered elements\n",
    "        best_set_index: int = max(range(NUM_SETS), key=lambda i: len(set(np.where(sets_copy[i])[0]) - covered))\n",
    "        solution[best_set_index] = True\n",
    "        covered.update(np.where(sets_copy[best_set_index])[0])\n",
    "        sets_copy[best_set_index] = np.zeros(UNIVERSE_SIZE, dtype=np.bool_)  # Mark the set as used by emptying it\n",
    "\n",
    "    return solution\n",
    "\n",
    "@cache\n",
    "def greedy_set_cover_with_cost() -> NDArray[np.bool]:\n",
    "    \"\"\" Solves the set cover problem using a greedy algorithm\n",
    "    that selects the set that minimizes the cost per uncovered element.\n",
    "    \n",
    "    Note: The logic is similar to the algorithm used in the \"greedy_set_cover\" function , but the set selection\n",
    "    is based on the cost per uncovered element.\n",
    "    \n",
    "    Returns:\n",
    "        NDArray[np.bool]: Solution to the set cover problem\n",
    "    \"\"\"\n",
    "    covered: set = set()\n",
    "\n",
    "    # NUM_SETS.size bool array, initialized with False\n",
    "    solution: NDArray[np.bool] = np.zeros(NUM_SETS, dtype=np.bool)\n",
    "\n",
    "    # Create a copy of SETS to avoid modifying the original\n",
    "    sets_copy: NDArray[np.bool] = SETS.copy()\n",
    "\n",
    "    while len(covered) < UNIVERSE_SIZE:\n",
    "        # Select the set that minimizes the cost per uncovered element\n",
    "        best_set_index: int = min(\n",
    "            range(NUM_SETS), \n",
    "            key=lambda i: COSTS[i] / len(set(np.where(sets_copy[i])[0]) - covered) if len(set(np.where(sets_copy[i])[0]) - covered) > 0 else float('inf')\n",
    "        )\n",
    "        \n",
    "        solution[best_set_index] = True\n",
    "        covered.update(np.where(sets_copy[best_set_index])[0])\n",
    "        sets_copy[best_set_index] = np.zeros(UNIVERSE_SIZE, dtype=np.bool_)  # Mark the set as used by emptying it\n",
    "\n",
    "    return solution\n",
    "\n"
   ]
  },
  {
   "cell_type": "code",
   "execution_count": 95,
   "metadata": {},
   "outputs": [],
   "source": [
    "def solve_set_cover(method: str, print_and_return: bool | None = None) -> NDArray[np.bool]:\n",
    "    \"\"\"\n",
    "    Solves the set cover problem using the specified method.\n",
    "    One of the following methods can be used:\n",
    "    - greedy\n",
    "    - naive\n",
    "    - greedy_with_cost\n",
    "    - with_cost\n",
    "    - cost\n",
    "    \n",
    "    Args:\n",
    "        method (str): The method to use to solve the set cover problem.\n",
    "        print_and_return (bool, optional): Whether to print and return the result. Defaults to None.\n",
    "\n",
    "    Returns:\n",
    "        NDArray[np.bool]: The solution to the set cover problem.\n",
    "        \n",
    "    Raises:\n",
    "        ValueError: If an invalid method is specified.\n",
    "    \"\"\"\n",
    "    naive_methods: list[str] = [\"greedy\", \"naive\"]\n",
    "    cost_methods: list[str] = [\"greedy_with_cost\", \"with_cost\", \"cost\"]\n",
    "    valid_methods: list[str] = naive_methods + cost_methods\n",
    "\n",
    "    solution: NDArray[np.bool] = np.zeros(NUM_SETS, dtype=np.bool)\n",
    "    \n",
    "    method = method.lower().strip()  \n",
    "        \n",
    "    if method in naive_methods:\n",
    "        solution = greedy_set_cover()\n",
    "    elif method in cost_methods:\n",
    "        solution = greedy_set_cover_with_cost()\n",
    "    elif method not in valid_methods:\n",
    "        raise ValueError(f\"Invalid method: {method}. Use one of the following: {valid_methods}\")\n",
    "    \n",
    "    if print_and_return:\n",
    "        ic(method, valid(solution), cost(solution))\n",
    "    return solution"
   ]
  },
  {
   "cell_type": "code",
   "execution_count": 99,
   "metadata": {},
   "outputs": [
    {
     "name": "stderr",
     "output_type": "stream",
     "text": [
      "ic| method: 'greedy'\n",
      "    valid(solution): np.True_\n",
      "    cost(solution): np.float64(108563.1518081353)\n",
      "ic| method: 'with_cost'\n",
      "    valid(solution): np.True_\n",
      "    cost(solution): np.float64(106009.81029575248)\n"
     ]
    },
    {
     "name": "stdout",
     "output_type": "stream",
     "text": [
      "\n",
      "`greedy_set_cover_with_cost` is better than `greedy_set_cover` by a factor of ~1.02\n"
     ]
    }
   ],
   "source": [
    "\n",
    "naive_sol: NDArray[np.bool] = solve_set_cover(\"greedy\", True)\n",
    "cost_sol: NDArray[np.bool] = solve_set_cover(\"with_cost\", True)\n",
    "\n",
    "if valid(naive_sol) and valid(cost_sol):\n",
    "    if cost(naive_sol) < cost(cost_sol):\n",
    "        print(f\"\\n`greedy_set_cover` is better than `greedy_set_cover_with_cost` by a factor of ~{cost(cost_sol) / cost(naive_sol):.2f}\")\n",
    "    elif cost(naive_sol) == cost(cost_sol):\n",
    "        print(f\"\\nBoth solutions have the same cost ~{cost(cost_sol):.2f}\")\n",
    "    elif cost(naive_sol) > cost(cost_sol):\n",
    "        print(f\"\\n`greedy_set_cover_with_cost` is better than `greedy_set_cover` by a factor of ~{cost(naive_sol) / cost(cost_sol):.2f}\")\n",
    "else:\n",
    "    raise ValueError(\"Invalid solution\")"
   ]
  }
 ],
 "metadata": {
  "kernelspec": {
   "display_name": "Python 3 (ipykernel)",
   "language": "python",
   "name": "python3"
  },
  "language_info": {
   "codemirror_mode": {
    "name": "ipython",
    "version": 3
   },
   "file_extension": ".py",
   "mimetype": "text/x-python",
   "name": "python",
   "nbconvert_exporter": "python",
   "pygments_lexer": "ipython3",
   "version": "3.12.6"
  }
 },
 "nbformat": 4,
 "nbformat_minor": 4
}
