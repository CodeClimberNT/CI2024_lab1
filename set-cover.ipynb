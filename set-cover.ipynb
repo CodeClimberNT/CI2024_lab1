{
 "cells": [
  {
   "cell_type": "markdown",
   "metadata": {},
   "source": [
    "Copyright **`(c)`** 2024 Giovanni Squillero `<giovanni.squillero@polito.it>`  \n",
    "[`https://github.com/squillero/computational-intelligence`](https://github.com/squillero/computational-intelligence)  \n",
    "Free for personal or classroom use; see [`LICENSE.md`](https://github.com/squillero/computational-intelligence/blob/master/LICENSE.md) for details.  "
   ]
  },
  {
   "cell_type": "markdown",
   "metadata": {},
   "source": [
    "# Set Cover problem\n",
    "\n",
    "See: https://en.wikipedia.org/wiki/Set_cover_problem"
   ]
  },
  {
   "cell_type": "code",
   "execution_count": 386,
   "metadata": {},
   "outputs": [],
   "source": [
    "import numpy as np\n",
    "from numpy.typing import NDArray\n",
    "from icecream import ic\n"
   ]
  },
  {
   "cell_type": "markdown",
   "metadata": {},
   "source": [
    "## Reproducible Initialization\n",
    "\n",
    "If you want to get reproducible results, use `rng` (and restart the kernel); for non-reproducible ones, use `np.random`."
   ]
  },
  {
   "cell_type": "code",
   "execution_count": 387,
   "metadata": {},
   "outputs": [],
   "source": [
    "UNIVERSE_SIZE = 1_000\n",
    "NUM_SETS = 200\n",
    "\n",
    "DENSITY = 0.3\n",
    "\n",
    "rng = np.random.Generator(np.random.PCG64([UNIVERSE_SIZE, NUM_SETS, int(NUM_SETS * DENSITY)]))"
   ]
  },
  {
   "cell_type": "code",
   "execution_count": 388,
   "metadata": {},
   "outputs": [],
   "source": [
    "# DON'T EDIT THESE LINES!\n",
    "\n",
    "SETS = np.random.random((NUM_SETS, UNIVERSE_SIZE)) < DENSITY\n",
    "for s in range(UNIVERSE_SIZE):\n",
    "    if not np.any(SETS[:, s]):\n",
    "        SETS[np.random.randint(NUM_SETS), s] = True\n",
    "COSTS = np.pow(SETS.sum(axis=1), 1.1)"
   ]
  },
  {
   "cell_type": "markdown",
   "metadata": {},
   "source": [
    "## Helper Functions"
   ]
  },
  {
   "cell_type": "code",
   "execution_count": 389,
   "metadata": {},
   "outputs": [],
   "source": [
    "def valid(solution):\n",
    "    \"\"\"Checks wether solution is valid (ie. covers all universe)\"\"\"\n",
    "    return np.all(np.logical_or.reduce(SETS[solution]))\n",
    "\n",
    "\n",
    "def cost(solution):\n",
    "    \"\"\"Returns the cost of a solution (to be minimized)\"\"\"\n",
    "    return COSTS[solution].sum()"
   ]
  },
  {
   "cell_type": "markdown",
   "metadata": {},
   "source": [
    "## Have Fun!"
   ]
  },
  {
   "cell_type": "code",
   "execution_count": 390,
   "metadata": {},
   "outputs": [],
   "source": [
    "def fitness(solution: NDArray[np.bool]) -> float:\n",
    "    return -cost(solution) if valid(solution) else -np.inf\n",
    "\n",
    "def mutate(solution: NDArray[np.bool], tried_indices: set) -> NDArray[np.bool]:\n",
    "    new_sol: NDArray[np.bool] = solution.copy()\n",
    "    while not valid(new_sol) or np.array_equal(new_sol, solution):\n",
    "        i: int = rng.integers(0, NUM_SETS)\n",
    "        new_sol[i] = not new_sol[i]\n",
    "    return new_sol"
   ]
  },
  {
   "cell_type": "code",
   "execution_count": 396,
   "metadata": {},
   "outputs": [],
   "source": [
    "def solve(solution: NDArray[np.bool]) -> NDArray[np.bool]:\n",
    "    new_solution: NDArray[np.bool] = solution.copy()\n",
    "    tried_indices = set()\n",
    "    for _ in range(50_000):\n",
    "        new_solution = mutate(new_solution, tried_indices)\n",
    "        if fitness(new_solution) > fitness(solution):\n",
    "            solution = new_solution\n",
    "\n",
    "    return solution"
   ]
  },
  {
   "cell_type": "code",
   "execution_count": 397,
   "metadata": {},
   "outputs": [
    {
     "name": "stderr",
     "output_type": "stream",
     "text": [
      "ic| fitness(random_solution): np.float64(-54678.078973476026)\n",
      "    cost(random_solution): np.float64(54678.078973476026)\n",
      "    valid(random_solution): np.True_\n",
      "ic| fitness(solution): np.float64(-39178.88541156995)\n",
      "    cost(solution): np.float64(39178.88541156995)\n",
      "    valid(solution): np.True_\n",
      "ic| fitness(solution): np.float64(-37389.91944993916)\n",
      "    cost(solution): np.float64(37389.91944993916)\n",
      "    valid(solution): np.True_\n"
     ]
    }
   ],
   "source": [
    "# Starting with a random solution with random 50% of the sets\n",
    "random_solution: NDArray[np.bool] = rng.random(NUM_SETS) < .5\n",
    "ic(fitness(random_solution), cost(random_solution), valid(random_solution))\n",
    "\n",
    "solution: NDArray[np.bool] = solve(random_solution)\n",
    "ic(fitness(solution), cost(solution), valid(solution))\n"
   ]
  }
 ],
 "metadata": {
  "kernelspec": {
   "display_name": "Python 3 (ipykernel)",
   "language": "python",
   "name": "python3"
  },
  "language_info": {
   "codemirror_mode": {
    "name": "ipython",
    "version": 3
   },
   "file_extension": ".py",
   "mimetype": "text/x-python",
   "name": "python",
   "nbconvert_exporter": "python",
   "pygments_lexer": "ipython3",
   "version": "3.12.6"
  }
 },
 "nbformat": 4,
 "nbformat_minor": 4
}
