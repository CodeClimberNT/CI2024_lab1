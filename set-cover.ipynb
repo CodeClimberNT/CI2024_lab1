{
 "cells": [
  {
   "cell_type": "markdown",
   "metadata": {},
   "source": [
    "Copyright **`(c)`** 2024 Giovanni Squillero `<giovanni.squillero@polito.it>`  \n",
    "[`https://github.com/squillero/computational-intelligence`](https://github.com/squillero/computational-intelligence)  \n",
    "Free for personal or classroom use; see [`LICENSE.md`](https://github.com/squillero/computational-intelligence/blob/master/LICENSE.md) for details.  "
   ]
  },
  {
   "cell_type": "markdown",
   "metadata": {},
   "source": [
    "# Set Cover problem\n",
    "\n",
    "See: https://en.wikipedia.org/wiki/Set_cover_problem"
   ]
  },
  {
   "cell_type": "code",
   "execution_count": 2,
   "metadata": {},
   "outputs": [],
   "source": [
    "import numpy as np\n",
    "from numpy.typing import NDArray\n",
    "from icecream import ic\n",
    "\n",
    "from tqdm.auto import tqdm\n",
    "from itertools import accumulate\n",
    "from matplotlib import pyplot as plt"
   ]
  },
  {
   "cell_type": "markdown",
   "metadata": {},
   "source": [
    "## Helper Functions"
   ]
  },
  {
   "cell_type": "code",
   "execution_count": 3,
   "metadata": {},
   "outputs": [],
   "source": [
    "def valid(solution) -> np.bool:\n",
    "    \"\"\"Checks wether solution is valid (ie. covers all universe)\"\"\"\n",
    "    return np.all(np.logical_or.reduce(SETS[solution]))\n",
    "\n",
    "\n",
    "def cost(solution)-> np.float64:\n",
    "    \"\"\"Returns the cost of a solution (to be minimized)\"\"\"\n",
    "    return COSTS[solution].sum()"
   ]
  },
  {
   "cell_type": "code",
   "execution_count": 23,
   "metadata": {},
   "outputs": [],
   "source": [
    "def fitness(\n",
    "    solution: NDArray[np.bool],\n",
    "    penalty: dict[str, float] = {\n",
    "        \"redundancy\": 5.26,\n",
    "    },\n",
    ") -> np.float64:\n",
    "    # Calculate how often each element in the universe is covered\n",
    "    element_coverage: NDArray[np.int16] = SETS[solution].sum(axis=0)\n",
    "\n",
    "    # Penalize for redundant coverage: penalize elements covered more than once\n",
    "    redundancy_penalty = np.sum((element_coverage[element_coverage > 1]) ** penalty[\"redundancy\"])\n",
    "\n",
    "    # Calculate the fitness value\n",
    "    if valid(solution):\n",
    "        return -cost(solution) - redundancy_penalty\n",
    "    else:\n",
    "        return np.float64(-np.inf)\n",
    "\n",
    "\n",
    "def mutate(\n",
    "    solution: NDArray[np.bool],\n",
    "    penalty: dict[str, float] = {\n",
    "        \"redundancy\": 5.26,\n",
    "    },\n",
    ") -> NDArray[np.bool]:\n",
    "    new_sol: NDArray[np.bool] = solution.copy()\n",
    "    while not valid(new_sol):\n",
    "        i: int = rng.integers(0, NUM_SETS)\n",
    "        new_sol[i] = not new_sol[i]\n",
    "    return new_sol\n",
    "\n",
    "\n",
    "def fit(\n",
    "    solution: NDArray[np.bool],\n",
    "    steps: int = 200,\n",
    "    penalty: dict[str, float] = {\n",
    "        \"redundancy\": 5.26,\n",
    "    },\n",
    "    plot: bool = False,\n",
    ") -> NDArray[np.bool]:\n",
    "    # Both history and progress bar are copied from here:\n",
    "    # https://github.com/squillero/computational-intelligence/blob/master/2024-25/multiple-knapsack.ipynb\n",
    "\n",
    "    # history appending was a slow operation, if you want to plot the history, you can uncomment it along with the plot code\n",
    "    # history: list[np.float64] = [fitness(solution)]\n",
    "    # initial mutation to reduce the number of copy operations\n",
    "\n",
    "    # history.append(fitness(new_solution))\n",
    "    new_solution: NDArray[np.bool] = np.zeros(NUM_SETS, dtype=bool)\n",
    "\n",
    "    for _ in tqdm(range(steps)):\n",
    "        new_solution: NDArray[np.bool] = mutate(solution, penalty)\n",
    "        if fitness(new_solution) > fitness(solution):\n",
    "            solution = new_solution\n",
    "        # history.append(fitness(new_solution))\n",
    "\n",
    "    # if plot:\n",
    "    #     plt.figure(figsize=(14, 8))\n",
    "    #     plt.plot(\n",
    "    #         range(len(history)),\n",
    "    #         list(accumulate(history, max)),  # type: ignore\n",
    "    #         color=\"red\",\n",
    "    #     )\n",
    "    #     plt.scatter(range(len(history)), history, marker=\".\") # type: ignore\n",
    "    return new_solution"
   ]
  },
  {
   "cell_type": "markdown",
   "metadata": {},
   "source": [
    "## Solving for different Configuration"
   ]
  },
  {
   "cell_type": "code",
   "execution_count": 24,
   "metadata": {},
   "outputs": [
    {
     "data": {
      "application/vnd.jupyter.widget-view+json": {
       "model_id": "36c1e72769f640b2a02590f7fb9542e4",
       "version_major": 2,
       "version_minor": 0
      },
      "text/plain": [
       "  0%|          | 0/6 [00:00<?, ?it/s]"
      ]
     },
     "metadata": {},
     "output_type": "display_data"
    },
    {
     "data": {
      "application/vnd.jupyter.widget-view+json": {
       "model_id": "49526c92693c44b0b8e9a865353f2712",
       "version_major": 2,
       "version_minor": 0
      },
      "text/plain": [
       "  0%|          | 0/100 [00:00<?, ?it/s]"
      ]
     },
     "metadata": {},
     "output_type": "display_data"
    },
    {
     "name": "stderr",
     "output_type": "stream",
     "text": [
      "ic| instance: 1\n",
      "    UNIVERSE_SIZE: 100\n",
      "    NUM_SETS: 10\n",
      "    DENSITY: 0.2\n",
      "    fitness(random_solution): np.float64(-inf)\n",
      "    cost(random_solution): np.float64(168.2342639444425)\n",
      "    valid(random_solution): np.False_\n",
      "    fitness(solution): np.float64(-28916.550496632357)\n",
      "    cost(solution): np.float64(278.0248009203271)\n",
      "    valid(solution): np.True_\n"
     ]
    },
    {
     "name": "stdout",
     "output_type": "stream",
     "text": [
      "|1|100|10|0.2|-28916.55|278.02|True|\n"
     ]
    },
    {
     "data": {
      "application/vnd.jupyter.widget-view+json": {
       "model_id": "2bf2665f749f4d3085fcbd92623f6d44",
       "version_major": 2,
       "version_minor": 0
      },
      "text/plain": [
       "  0%|          | 0/100 [00:00<?, ?it/s]"
      ]
     },
     "metadata": {},
     "output_type": "display_data"
    },
    {
     "name": "stderr",
     "output_type": "stream",
     "text": [
      "ic| instance: 2\n",
      "    UNIVERSE_SIZE: 1000\n",
      "    NUM_SETS: 100\n",
      "    DENSITY: 0.2\n",
      "    fitness(random_solution): np.float64(-955215946.7105511)\n",
      "    cost(random_solution): np.float64(20642.609906170277)\n",
      "    valid(random_solution): np.True_\n",
      "    fitness(solution): np.float64(-955215946.7105511)\n",
      "    cost(solution): np.float64(20642.609906170277)\n",
      "    valid(solution): np.True_\n"
     ]
    },
    {
     "name": "stdout",
     "output_type": "stream",
     "text": [
      "|2|1000|100|0.2|-955215946.71|20642.61|True|\n"
     ]
    },
    {
     "data": {
      "application/vnd.jupyter.widget-view+json": {
       "model_id": "dddf3174c1ba4b89941869fa9ed2e349",
       "version_major": 2,
       "version_minor": 0
      },
      "text/plain": [
       "  0%|          | 0/100 [00:00<?, ?it/s]"
      ]
     },
     "metadata": {},
     "output_type": "display_data"
    },
    {
     "name": "stderr",
     "output_type": "stream",
     "text": [
      "ic| instance: 3\n",
      "    UNIVERSE_SIZE: 10000\n",
      "    NUM_SETS: 1000\n",
      "    DENSITY: 0.2\n",
      "    fitness(random_solution): np.float64(-533024922555469.9)\n",
      "    cost(random_solution): np.float64(2305573.467452433)\n",
      "    valid(random_solution): np.True_\n",
      "    fitness(solution): np.float64(-533024922555469.9)\n",
      "    cost(solution): np.float64(2305573.467452433)\n",
      "    valid(solution): np.True_\n"
     ]
    },
    {
     "name": "stdout",
     "output_type": "stream",
     "text": [
      "|3|10000|1000|0.2|-533024922555469.88|2305573.47|True|\n"
     ]
    },
    {
     "data": {
      "application/vnd.jupyter.widget-view+json": {
       "model_id": "78987e3a835c47da83eb7ba0adfd4425",
       "version_major": 2,
       "version_minor": 0
      },
      "text/plain": [
       "  0%|          | 0/100 [00:00<?, ?it/s]"
      ]
     },
     "metadata": {},
     "output_type": "display_data"
    },
    {
     "name": "stderr",
     "output_type": "stream",
     "text": [
      "ic| instance: 4\n",
      "    UNIVERSE_SIZE: 100000\n",
      "    NUM_SETS: 10000\n",
      "    DENSITY: 0.1\n",
      "    fitness(random_solution): np.float64(-1.5364790913551548e+19)\n",
      "    cost(random_solution): np.float64(124566203.86828752)\n",
      "    valid(random_solution): np.True_\n",
      "    fitness(solution): np.float64(-1.5364790913551548e+19)\n",
      "    cost(solution): np.float64(124566203.86828752)\n",
      "    valid(solution): np.True_\n"
     ]
    },
    {
     "name": "stdout",
     "output_type": "stream",
     "text": [
      "|4|100000|10000|0.1|-15364790913551548416.00|124566203.87|True|\n"
     ]
    },
    {
     "data": {
      "application/vnd.jupyter.widget-view+json": {
       "model_id": "b7cc415d61cc462c89631d5b33865142",
       "version_major": 2,
       "version_minor": 0
      },
      "text/plain": [
       "  0%|          | 0/100 [00:00<?, ?it/s]"
      ]
     },
     "metadata": {},
     "output_type": "display_data"
    },
    {
     "name": "stderr",
     "output_type": "stream",
     "text": [
      "ic| instance: 5\n",
      "    UNIVERSE_SIZE: 100000\n",
      "    NUM_SETS: 10000\n",
      "    DENSITY: 0.2\n",
      "    fitness(random_solution): np.float64(-6.000661447640608e+20)\n",
      "    cost(random_solution): np.float64(268547654.4317805)\n",
      "    valid(random_solution): np.True_\n",
      "    fitness(solution): np.float64(-6.000661447640608e+20)\n",
      "    cost(solution): np.float64(268547654.4317805)\n",
      "    valid(solution): np.True_\n"
     ]
    },
    {
     "name": "stdout",
     "output_type": "stream",
     "text": [
      "|5|100000|10000|0.2|-600066144764060762112.00|268547654.43|True|\n"
     ]
    },
    {
     "data": {
      "application/vnd.jupyter.widget-view+json": {
       "model_id": "502266daac1a4de084a09462fac5d057",
       "version_major": 2,
       "version_minor": 0
      },
      "text/plain": [
       "  0%|          | 0/100 [00:00<?, ?it/s]"
      ]
     },
     "metadata": {},
     "output_type": "display_data"
    },
    {
     "name": "stderr",
     "output_type": "stream",
     "text": [
      "ic| instance: 6\n",
      "    UNIVERSE_SIZE: 100000\n",
      "    NUM_SETS: 10000\n",
      "    DENSITY: 0.3\n",
      "    fitness(random_solution): np.float64(-5.303792096180068e+21)\n",
      "    cost(random_solution): np.float64(423510822.07619506)\n",
      "    valid(random_solution): np.True_\n",
      "    fitness(solution): np.float64(-5.303792096180068e+21)\n",
      "    cost(solution): np.float64(423510822.07619506)\n",
      "    valid(solution): np.True_\n"
     ]
    },
    {
     "name": "stdout",
     "output_type": "stream",
     "text": [
      "|6|100000|10000|0.3|-5303792096180067893248.00|423510822.08|True|\n"
     ]
    }
   ],
   "source": [
    "for instance in tqdm(range(1, 7)):\n",
    "    # DON'T EDIT THESE LINES!\n",
    "    match instance:\n",
    "        case 1:\n",
    "            UNIVERSE_SIZE = 100\n",
    "            NUM_SETS = 10\n",
    "            DENSITY = 0.2\n",
    "        case 2:\n",
    "            UNIVERSE_SIZE = 1_000\n",
    "            NUM_SETS = 100\n",
    "            DENSITY = 0.2\n",
    "\n",
    "        case 3:\n",
    "            UNIVERSE_SIZE = 10_000\n",
    "            NUM_SETS = 1_000\n",
    "            DENSITY = 0.2\n",
    "        case 4:\n",
    "            UNIVERSE_SIZE = 100_000\n",
    "            NUM_SETS = 10_000\n",
    "            DENSITY = 0.1\n",
    "        case 5:\n",
    "            UNIVERSE_SIZE = 100_000\n",
    "            NUM_SETS = 10_000\n",
    "            DENSITY = 0.2\n",
    "        case 6:\n",
    "            UNIVERSE_SIZE = 100_000\n",
    "            NUM_SETS = 10_000\n",
    "            DENSITY = 0.3\n",
    "        case _:\n",
    "            raise ValueError(\"How did you get here?\")\n",
    "        \n",
    "    rng = np.random.Generator(np.random.PCG64([UNIVERSE_SIZE, NUM_SETS, int(NUM_SETS * DENSITY)]))\n",
    "\n",
    "    SETS = np.random.random((NUM_SETS, UNIVERSE_SIZE)) < DENSITY\n",
    "    for s in range(UNIVERSE_SIZE):\n",
    "        if not np.any(SETS[:, s]):\n",
    "            SETS[np.random.randint(NUM_SETS), s] = True\n",
    "    COSTS = np.pow(SETS.sum(axis=1), 1.1)\n",
    "\n",
    "    # Starting with a random solution with random 50% of the sets\n",
    "    random_solution: NDArray[np.bool] = rng.random(NUM_SETS) < 0.5\n",
    "    solution: NDArray[np.bool] = fit(random_solution, steps=100)\n",
    "\n",
    "    ic(\n",
    "        instance,\n",
    "        UNIVERSE_SIZE,\n",
    "        NUM_SETS,\n",
    "        DENSITY,\n",
    "        fitness(random_solution),\n",
    "        cost(random_solution),\n",
    "        valid(random_solution),\n",
    "        fitness(solution),\n",
    "        cost(solution),\n",
    "        valid(solution),\n",
    "    )\n",
    "\n",
    "    print(f\"|{instance}|{UNIVERSE_SIZE}|{NUM_SETS}|{DENSITY}|{fitness(solution):.2f}|{cost(solution):.2f}|{valid(solution)}|\")"
   ]
  }
 ],
 "metadata": {
  "kernelspec": {
   "display_name": "ci-mCEth-Wq-py3.12",
   "language": "python",
   "name": "python3"
  },
  "language_info": {
   "codemirror_mode": {
    "name": "ipython",
    "version": 3
   },
   "file_extension": ".py",
   "mimetype": "text/x-python",
   "name": "python",
   "nbconvert_exporter": "python",
   "pygments_lexer": "ipython3",
   "version": "3.12.7"
  }
 },
 "nbformat": 4,
 "nbformat_minor": 4
}
