{
 "cells": [
  {
   "cell_type": "markdown",
   "metadata": {},
   "source": [
    "Copyright **`(c)`** 2024 Giovanni Squillero `<giovanni.squillero@polito.it>`  \n",
    "[`https://github.com/squillero/computational-intelligence`](https://github.com/squillero/computational-intelligence)  \n",
    "Free for personal or classroom use; see [`LICENSE.md`](https://github.com/squillero/computational-intelligence/blob/master/LICENSE.md) for details.  "
   ]
  },
  {
   "cell_type": "markdown",
   "metadata": {},
   "source": [
    "# Set Cover problem\n",
    "\n",
    "See: https://en.wikipedia.org/wiki/Set_cover_problem"
   ]
  },
  {
   "cell_type": "code",
   "execution_count": 10,
   "metadata": {},
   "outputs": [],
   "source": [
    "from random import random, seed\n",
    "from itertools import product\n",
    "import numpy as np\n",
    "import numpy.typing as npt\n",
    "from icecream import ic"
   ]
  },
  {
   "cell_type": "markdown",
   "metadata": {},
   "source": [
    "## Reproducible Initialization\n",
    "\n",
    "If you want to get reproducible results, use `rng` (and restart the kernel); for non-reproducible ones, use `np.random`."
   ]
  },
  {
   "cell_type": "code",
   "execution_count": 2,
   "metadata": {},
   "outputs": [],
   "source": [
    "# The original value were too high for my computer to handle\n",
    "# UNIVERSE_SIZE = 100_000\n",
    "# NUM_SETS = 10_000\n",
    "UNIVERSE_SIZE = 10_000\n",
    "NUM_SETS = 1_000\n",
    "DENSITY = 0.3\n",
    "\n",
    "rng = np.random.Generator(np.random.PCG64([UNIVERSE_SIZE, NUM_SETS, int(10_000 * DENSITY)]))"
   ]
  },
  {
   "cell_type": "code",
   "execution_count": 3,
   "metadata": {},
   "outputs": [],
   "source": [
    "# DON'T EDIT THESE LINES!\n",
    "\n",
    "SETS = np.random.random((NUM_SETS, UNIVERSE_SIZE)) < DENSITY\n",
    "for s in range(UNIVERSE_SIZE):\n",
    "    if not np.any(SETS[:, s]):\n",
    "        SETS[np.random.randint(NUM_SETS), s] = True\n",
    "COSTS = np.pow(SETS.sum(axis=1), 1.1)"
   ]
  },
  {
   "cell_type": "markdown",
   "metadata": {},
   "source": [
    "## Helper Functions"
   ]
  },
  {
   "cell_type": "code",
   "execution_count": 4,
   "metadata": {},
   "outputs": [],
   "source": [
    "def valid(solution):\n",
    "    \"\"\"Checks wether solution is valid (ie. covers all universe)\"\"\"\n",
    "    return np.all(np.logical_or.reduce(SETS[solution]))\n",
    "\n",
    "\n",
    "def cost(solution):\n",
    "    \"\"\"Returns the cost of a solution (to be minimized)\"\"\"\n",
    "    return COSTS[solution].sum()"
   ]
  },
  {
   "cell_type": "markdown",
   "metadata": {},
   "source": [
    "## Have Fun!"
   ]
  },
  {
   "cell_type": "code",
   "execution_count": 5,
   "metadata": {},
   "outputs": [
    {
     "data": {
      "text/plain": [
       "(np.True_, np.float64(6682783.894103612))"
      ]
     },
     "execution_count": 5,
     "metadata": {},
     "output_type": "execute_result"
    }
   ],
   "source": [
    "# A dumb solution of \"all\" sets\n",
    "solution = np.full(NUM_SETS, True)\n",
    "valid(solution), cost(solution)"
   ]
  },
  {
   "cell_type": "code",
   "execution_count": 6,
   "metadata": {},
   "outputs": [
    {
     "data": {
      "text/plain": [
       "(np.True_, np.float64(3322440.238779854))"
      ]
     },
     "execution_count": 6,
     "metadata": {},
     "output_type": "execute_result"
    }
   ],
   "source": [
    "# A random solution with random 50% of the sets\n",
    "solution: npt.NDArray[np.bool] = rng.random(NUM_SETS) < .5\n",
    "valid(solution), cost(solution)"
   ]
  },
  {
   "cell_type": "markdown",
   "metadata": {},
   "source": [
    "### Note\n",
    "There is some repetition for both solution but in this case I preferred to abstract the two method as they were completely independent, \n",
    "mainly for readability."
   ]
  },
  {
   "cell_type": "code",
   "execution_count": 7,
   "metadata": {},
   "outputs": [],
   "source": [
    "def greedy_set_cover() -> npt.NDArray[np.bool]:\n",
    "    \"\"\" Solves the set cover problem using a greedy algorithm \n",
    "    that selects the set that maximize the number of uncovered elements.\n",
    "    \n",
    "    Note: This is a naive solution that does not consider the added cost of each set.\n",
    "    \n",
    "    Returns:\n",
    "        NDArray[np.bool]: Solution to the set cover problem\n",
    "    \"\"\"\n",
    "    covered: set = set()\n",
    "\n",
    "    # NUM_SETS.size bool array, initialized with False\n",
    "    solution: npt.NDArray[np.bool] = np.zeros(NUM_SETS, dtype=np.bool)\n",
    "\n",
    "    # Create a copy of SETS to avoid modifying the original\n",
    "    sets_copy: npt.NDArray[np.bool] = SETS.copy()\n",
    "\n",
    "    while len(covered) < UNIVERSE_SIZE:\n",
    "        # Select the set that covers the most uncovered elements\n",
    "        best_set_index: int = max(range(NUM_SETS), key=lambda i: len(set(np.where(sets_copy[i])[0]) - covered))\n",
    "        solution[best_set_index] = True\n",
    "        covered.update(np.where(sets_copy[best_set_index])[0])\n",
    "        sets_copy[best_set_index] = np.zeros(UNIVERSE_SIZE, dtype=np.bool_)  # Mark the set as used by emptying it\n",
    "\n",
    "    return solution\n",
    "\n",
    "\n",
    "def greedy_set_cover_with_cost() -> npt.NDArray[np.bool]:\n",
    "    \"\"\" Solves the set cover problem using a greedy algorithm\n",
    "    that selects the set that minimizes the cost per uncovered element.\n",
    "    \n",
    "    Note: The logic is similar to the algorithm used in the \"greedy_set_cover\" function , but the set selection\n",
    "    is based on the cost per uncovered element.\n",
    "    \n",
    "    Returns:\n",
    "        NDArray[np.bool]: Solution to the set cover problem\n",
    "    \"\"\"\n",
    "    covered: set = set()\n",
    "\n",
    "    # NUM_SETS.size bool array, initialized with False\n",
    "    solution: npt.NDArray[np.bool] = np.zeros(NUM_SETS, dtype=np.bool)\n",
    "\n",
    "    # Create a copy of SETS to avoid modifying the original\n",
    "    sets_copy: npt.NDArray[np.bool] = SETS.copy()\n",
    "\n",
    "    while len(covered) < UNIVERSE_SIZE:\n",
    "        # Select the set that minimizes the cost per uncovered element\n",
    "        best_set_index: int = min(\n",
    "            range(NUM_SETS), \n",
    "            key=lambda i: COSTS[i] / len(set(np.where(sets_copy[i])[0]) - covered) if len(set(np.where(sets_copy[i])[0]) - covered) > 0 else float('inf')\n",
    "        )\n",
    "        \n",
    "        solution[best_set_index] = True\n",
    "        covered.update(np.where(sets_copy[best_set_index])[0])\n",
    "        sets_copy[best_set_index] = np.zeros(UNIVERSE_SIZE, dtype=np.bool_)  # Mark the set as used by emptying it\n",
    "\n",
    "    return solution\n",
    "\n",
    "\n",
    "# Util function to solve set cover problem with different methods\n",
    "def solve_set_cover(method: str, print_metrics: bool | None = None) -> npt.NDArray[np.bool] | None:\n",
    "    naive_methods: list[str] = [\"greedy\"]\n",
    "    cost_methods: list[str] = [\"greedy_with_cost\", \"with_cost\", \"cost\"]\n",
    "    valid_methods: list[str] = naive_methods + cost_methods\n",
    "    solution:npt.NDArray[np.bool] \n",
    "    \n",
    "    method = method.lower().strip()\n",
    "\n",
    "    if method in [\"greedy\"]:\n",
    "        solution = greedy_set_cover()\n",
    "    elif method in [\"greedy_with_cost\", \"with_cost\", \"cost\"]:\n",
    "        solution = greedy_set_cover_with_cost()\n",
    "    else:\n",
    "        ic(\"Invalid method, please use one of the following: \", valid_methods)\n",
    "        return None\n",
    "    \n",
    "    if print_metrics:\n",
    "        ic(method, valid(solution), cost(solution))\n",
    "        return None\n",
    "    else:\n",
    "        return solution\n"
   ]
  },
  {
   "cell_type": "code",
   "execution_count": 8,
   "metadata": {},
   "outputs": [
    {
     "name": "stderr",
     "output_type": "stream",
     "text": [
      "ic| method: 'greedy'\n",
      "    valid(solution): np.True_\n",
      "    cost(solution): np.float64(101583.5177978479)\n",
      "ic| method: 'with_cost'\n",
      "    valid(solution): np.True_\n",
      "    cost(solution): np.float64(105978.24275451187)\n"
     ]
    }
   ],
   "source": [
    "solve_set_cover(\"greedy\", True)\n",
    "solve_set_cover(\"with_cost\", True)"
   ]
  }
 ],
 "metadata": {
  "kernelspec": {
   "display_name": "Python 3 (ipykernel)",
   "language": "python",
   "name": "python3"
  },
  "language_info": {
   "codemirror_mode": {
    "name": "ipython",
    "version": 3
   },
   "file_extension": ".py",
   "mimetype": "text/x-python",
   "name": "python",
   "nbconvert_exporter": "python",
   "pygments_lexer": "ipython3",
   "version": "3.12.6"
  }
 },
 "nbformat": 4,
 "nbformat_minor": 4
}
